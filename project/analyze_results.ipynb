{
 "cells": [
  {
   "cell_type": "code",
   "execution_count": null,
   "metadata": {},
   "outputs": [],
   "source": [
    "# !python generate_shell_scripts.py\n",
    "# !bash _run_defense.sh"
   ]
  },
  {
   "cell_type": "code",
   "execution_count": null,
   "metadata": {},
   "outputs": [],
   "source": [
    "import os\n",
    "import matplotlib.pyplot as plt\n",
    "from diskcache import Index\n",
    "import numpy as np\n"
   ]
  },
  {
   "cell_type": "code",
   "execution_count": null,
   "metadata": {},
   "outputs": [],
   "source": [
    "def getExperimentDetails(d):\n",
    "    training_config = d['training_cache_config']\n",
    "    num_clients = training_config[\"sim_config\"][\"NUM_CLIENTS\"]\n",
    "    num_rounds = training_config[\"sim_config\"][\"NUM_ROUNDS\"]\n",
    "    dname = training_config[\"sim_config\"]['data_distribution_config'][\"DATASET_NAME\"]\n",
    "    strategy = training_config[\"sim_config\"][\"stratgey\"]\n",
    "    malacious_clients = training_config[\"sim_config\"][\"MALICIOUS_CLIENTS_IDS\"]\n",
    "    # groups = training_config[\"sim_config\"]['data_distribution_config'][\"NUM_GROUPS\"]\n",
    "    # model_name = training_config[\"sim_config\"]['nn_config'][\"architecture\"]\n",
    "    # percentage_of_randomly_selected_clients = training_config[\"sim_config\"][\"percentage_of_randomly_selected_clients\"]\n",
    "    print(d.keys())\n",
    "    round2def = d[\"round2def_storage\"]\n",
    "    return {\"strategy\":strategy, \"malacious_clients\":malacious_clients, \"num_clients\":num_clients, \"num_rounds\":num_rounds, \"dname\":dname,  \"round2def\":round2def}\n"
   ]
  },
  {
   "cell_type": "code",
   "execution_count": null,
   "metadata": {},
   "outputs": [],
   "source": [
    "from matplotlib.ticker import AutoMinorLocator, MaxNLocator\n",
    "def lineplot(exp_info):\n",
    "    fig, ax = plt.subplots()\n",
    "    x = np.arange(1, exp_info[\"num_rounds\"]+1)\n",
    "\n",
    "    y1_Def_acc = [rd['Defense Acc']*100 for rd in exp_info['round2def'].values()]\n",
    "    y2_test_acc = [rd['test_acc']*100 for rd in exp_info['round2def'].values()]\n",
    "    y3_attack_acc = [rd['Attack Success Rate']*100 for rd in exp_info['round2def'].values()]\n",
    "\n",
    "    ax.plot(x,y1_Def_acc, '-o', label= \"Backdoor Detection Accuracy\")\n",
    "    ax.plot(x,y2_test_acc, '-^', label = \"Test Accuracy\")\n",
    "    ax.plot(x,y3_attack_acc, '-s', label = \"Attack Success Rate (Backdoor)\")\n",
    "    ax.set_ylim(0, 105)\n",
    "    ax.xaxis.set_minor_locator(AutoMinorLocator())\n",
    "    ax.yaxis.set_minor_locator(AutoMinorLocator())\n",
    "    ax.yaxis.set_ticks_position('both')\n",
    "    ax.xaxis.set_ticks_position('both')\n",
    "    ax.set_title(f\"{exp_info['strategy']}, Mal_Clients {exp_info['malacious_clients']} Clients:{exp_info['num_clients']}-{exp_info['dname']}\")\n",
    "    ax.set_xlabel('Round')\n",
    "    ax.set_ylabel(\"Accuracy (%)\")\n",
    "    ax.legend()"
   ]
  },
  {
   "cell_type": "code",
   "execution_count": null,
   "metadata": {},
   "outputs": [],
   "source": [
    "cache_dir = \"/home/gulzar/Github/backdoor-attacks-fl/project/.backdoor_storage/cache_defense_results\"\n",
    "cache = Index(cache_dir)\n",
    "\n",
    "# k = list(cache.keys())[0]\n",
    "\n",
    "# exp_info =  getExperimentDetails(cache[k])\n"
   ]
  },
  {
   "cell_type": "code",
   "execution_count": null,
   "metadata": {},
   "outputs": [],
   "source": [
    "# for k in cache.keys():\n",
    "#     if \"epochs-15\" in k:    \n",
    "#         exp =  getExperimentDetails(cache[k])\n",
    "#         lineplot(exp)\n"
   ]
  },
  {
   "cell_type": "code",
   "execution_count": null,
   "metadata": {},
   "outputs": [],
   "source": [
    "for k in cache.keys():\n",
    "    # if \"epochs-15\" in k:    \n",
    "    exp =  getExperimentDetails(cache[k])\n",
    "    lineplot(exp)\n"
   ]
  }
 ],
 "metadata": {
  "kernelspec": {
   "display_name": "Python 3.10.4 ('flwr')",
   "language": "python",
   "name": "python3"
  },
  "language_info": {
   "codemirror_mode": {
    "name": "ipython",
    "version": 3
   },
   "file_extension": ".py",
   "mimetype": "text/x-python",
   "name": "python",
   "nbconvert_exporter": "python",
   "pygments_lexer": "ipython3",
   "version": "3.10.4"
  },
  "orig_nbformat": 4,
  "vscode": {
   "interpreter": {
    "hash": "08a127ec7b0029232fa217657cb1877e608db1740dd1d8f6d137d0e166c2b14b"
   }
  }
 },
 "nbformat": 4,
 "nbformat_minor": 2
}
